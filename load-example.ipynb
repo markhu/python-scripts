{
 "metadata": {
  "name": "",
  "signature": "sha256:ff24eb086007cedf749183c982d0c71a2a70a8dc2dc0fffab7cea2b45bf69f84"
 },
 "nbformat": 3,
 "nbformat_minor": 0,
 "worksheets": [
  {
   "cells": [
    {
     "cell_type": "markdown",
     "metadata": {},
     "source": [
      "Simplest example.  Loads a python program in same directory.\n",
      "Click the play button once to load it, then click in its cell, and click play again to run it."
     ]
    },
    {
     "cell_type": "code",
     "collapsed": false,
     "input": [
      "%load 'cal.py'"
     ],
     "language": "python",
     "metadata": {},
     "outputs": [],
     "prompt_number": 1
    }
   ],
   "metadata": {}
  }
 ]
}