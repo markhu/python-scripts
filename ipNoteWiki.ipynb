{
 "metadata": {
  "name": "",
  "signature": "sha256:145f8a3a77f752c8e592382aab8bf6c89bddd78d2bffeea4962b0fd6e294494e",
  "svnID": "$Id: $",
  "various_globals": "um"
 },
 "nbformat": 3,
 "nbformat_minor": 0,
 "worksheets": [
  {
   "cells": [
    {
     "cell_type": "markdown",
     "metadata": {},
     "source": [
      "## ipNoteWiki ##\n",
      "\n",
      "A note-taking method using [iPythonNotebook]()\n",
      "\n",
      "- Thanks to these instructions for [Installing IPython Notebook on OS X)[http://www.masnun.com/2014/07/22/installing-ipython-notebook-on-os-x.html]\n",
      "\n",
      "TBD:\n",
      "====\n",
      "1. \n",
      "\n"
     ]
    },
    {
     "cell_type": "code",
     "collapsed": false,
     "input": [
      "import json\n",
      "import requests\n",
      "\n",
      "r = requests.get(\"http://localhost:80/\")\n",
      "# headers=json.loads(r.headers)\n",
      "# headers=json.dumps(r.headers,indent=2)\n",
      "\n",
      "print( \"## %s \\n %s\" % (r.text, r.headers[\"server\"] ) )\n",
      "\n",
      "# TBD: how to style output?"
     ],
     "language": "python",
     "metadata": {},
     "outputs": [
      {
       "output_type": "stream",
       "stream": "stdout",
       "text": [
        "## <html><body><h1>It works!</h1></body></html>\n",
        " \n",
        " Apache/2.4.16 (Unix) PHP/5.5.27\n"
       ]
      }
     ],
     "prompt_number": 28
    },
    {
     "cell_type": "code",
     "collapsed": false,
     "input": [],
     "language": "python",
     "metadata": {},
     "outputs": []
    },
    {
     "cell_type": "code",
     "collapsed": false,
     "input": [],
     "language": "python",
     "metadata": {},
     "outputs": []
    }
   ],
   "metadata": {}
  }
 ]
}
