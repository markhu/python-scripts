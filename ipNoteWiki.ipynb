{
 "metadata": {
  "name": "",
  "signature": "sha256:54dffe2b8fb81ad267ca8804bb6d0f33967a75b10e4db0d3b3a278b203b3d3b1",
  "svnID": "$Id: $",
  "various_globals": "um"
 },
 "nbformat": 3,
 "nbformat_minor": 0,
 "worksheets": [
  {
   "cells": [
    {
     "cell_type": "heading",
     "level": 1,
     "metadata": {},
     "source": [
      "ipNoteWiki"
     ]
    },
    {
     "cell_type": "markdown",
     "metadata": {},
     "source": [
      "A note-taking method using [iPythonNotebook](https://ipython.org/ipython-doc/3/notebook/index.html)\n",
      "\n",
      "- Thanks to these instructions for [Installing IPython Notebook on OS X](http://www.masnun.com/2014/07/22/installing-ipython-notebook-on-os-x.html)\n",
      "\n",
      "TBD:\n",
      "====\n",
      "1. formatted output\n",
      "2. link to [another notebook](./cal.py.ipynb) (relative)\n",
      "3. absolute link to [another notebook](http://localhost:8888/notebooks/cal.py.ipynb)\n",
      "\n"
     ]
    },
    {
     "cell_type": "code",
     "collapsed": false,
     "input": [
      "import json\n",
      "import requests\n",
      "# from pprint import pprint\n",
      "\n",
      "r = requests.get(\"http://localhost:80/\")\n",
      "# headers=json.loads(r.headers)\n",
      "# headers=json.dumps(r.headers,indent=2)\n",
      "\n",
      "print( \"%s\" % (r.text))\n",
      "\n",
      "print( r.headers  )\n",
      "\n",
      "# TBD: how to style output?"
     ],
     "language": "python",
     "metadata": {},
     "outputs": [
      {
       "output_type": "stream",
       "stream": "stdout",
       "text": [
        "<html><body><h1>It works!</h1></body></html>\n",
        "\n",
        "{'content-length': '45', 'content-location': 'index.html.en', 'accept-ranges': 'bytes', 'vary': 'negotiate', 'keep-alive': 'timeout=5, max=100', 'server': 'Apache/2.4.16 (Unix) PHP/5.5.27', 'tcn': 'choice', 'last-modified': 'Mon, 11 Jun 2007 18:53:14 GMT', 'connection': 'Keep-Alive', 'etag': '\"2d-432a5e4a73a80\"', 'date': 'Sat, 05 Sep 2015 04:19:08 GMT', 'content-type': 'text/html'}\n"
       ]
      }
     ],
     "prompt_number": 7
    }
   ],
   "metadata": {}
  }
 ]
}