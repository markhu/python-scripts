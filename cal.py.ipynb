{
 "metadata": {
  "name": "",
  "signature": "sha256:e41912989e59510653d5e436214d77dce50d52347c6ad7ae3eaca64fce1b6c3a"
 },
 "nbformat": 3,
 "nbformat_minor": 0,
 "worksheets": [
  {
   "cells": [
    {
     "cell_type": "markdown",
     "metadata": {},
     "source": [
      "Another simple example --built using [load-example](./load-example.ipynb)"
     ]
    },
    {
     "cell_type": "code",
     "collapsed": false,
     "input": [
      "#!/usr/bin/env python\n",
      "\n",
      "# cal.py\n",
      "# emulate the original Unix `cal` command\n",
      "\n",
      "# TBD: highlight the current day (cross-platform Linux + Windows)\n",
      "\n",
      "import sys\n",
      "\n",
      "import calendar\n",
      "import time   # simpler than datetime\n",
      "\n",
      "calendar.setfirstweekday(calendar.SUNDAY)\n",
      "\n",
      "if len(sys.argv) == 2:\n",
      "  Y= sys.argv[1]\n",
      "  calendar.prcal( int(Y) )\n",
      "elif len(sys.argv) == 3:\n",
      "  Y= sys.argv[1]\n",
      "  m= sys.argv[2]\n",
      "  calendar.prmonth( int(Y), int(m) )\n",
      "else:\n",
      "  Y= time.strftime('%Y')\n",
      "  m= time.strftime('%m')\n",
      "  calendar.prmonth( int(Y), int(m) )\n",
      "\n",
      "#EOF\n"
     ],
     "language": "python",
     "metadata": {},
     "outputs": []
    },
    {
     "cell_type": "code",
     "collapsed": false,
     "input": [],
     "language": "python",
     "metadata": {},
     "outputs": []
    }
   ],
   "metadata": {}
  }
 ]
}