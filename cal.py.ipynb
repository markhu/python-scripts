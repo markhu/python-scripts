{
 "metadata": {
  "name": "",
  "signature": "sha256:431cdffa827113882b0362df8929edbae67dbb96e69d67dc9eecd09c3a7d2a9d"
 },
 "nbformat": 3,
 "nbformat_minor": 0,
 "worksheets": [
  {
   "cells": [
    {
     "cell_type": "markdown",
     "metadata": {},
     "source": [
      "Simplest example.  Loads a python program in same directory.\n",
      "Click the play button once to load it, then click in its cell, and click play again to run it."
     ]
    },
    {
     "cell_type": "code",
     "collapsed": false,
     "input": [
      "%load 'cal.py'"
     ],
     "language": "python",
     "metadata": {},
     "outputs": [],
     "prompt_number": 3
    }
   ],
   "metadata": {}
  }
 ]
}